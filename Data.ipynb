{
 "cells": [
  {
   "cell_type": "code",
   "execution_count": 6,
   "metadata": {},
   "outputs": [],
   "source": [
    "import os\n",
    "import pandas as pd\n",
    "\n",
    "# 设置目录路径\n",
    "directory_path = '/home/hwxu/Projects/Dataset/PKU/AMIA/Input/raw'\n",
    "\n",
    "# 检查目录中的所有csv文件并读取它们\n",
    "files = [f for f in os.listdir(directory_path) if f.endswith('.csv')]\n",
    "all_dfs = []  # 存储每个文件的DataFrame\n",
    "admission_id_sets = []\n",
    "\n",
    "for file in files:\n",
    "    df = pd.read_csv(os.path.join(directory_path, file))\n",
    "    admission_id_sets.append(set(df['admission_id']))\n",
    "    all_dfs.append(df)\n",
    "\n",
    "# 找到所有csv文件中admission_id的交集\n",
    "admission_id_intersection = set.intersection(*admission_id_sets)\n",
    "\n",
    "# 初始化最终DataFrame为第一个过滤后的DataFrame\n",
    "final_df = all_dfs[0][all_dfs[0]['admission_id'].isin(admission_id_intersection)]\n",
    "\n",
    "# 从第二个DataFrame开始合并\n",
    "for df in all_dfs[1:]:\n",
    "    df_filtered = df[df['admission_id'].isin(admission_id_intersection)]\n",
    "    final_df = pd.merge(final_df, df_filtered, on=['admission_id', 'hour'], how='outer')\n",
    "\n",
    "# 如果你想保存合并后的DataFrame为一个新的CSV文件\n",
    "final_df.to_csv('/home/hwxu/Projects/Dataset/PKU/AMIA/Input/processed/data_merged.csv', index=False)\n"
   ]
  },
  {
   "cell_type": "code",
   "execution_count": 7,
   "metadata": {},
   "outputs": [],
   "source": [
    "import pandas as pd\n",
    "# 读取上传的CSV文件\n",
    "file_path = '/home/hwxu/Projects/Dataset/PKU/AMIA/Input/processed/data_merged.csv'\n",
    "df = pd.read_csv(file_path)\n",
    "\n",
    "# 计算每个患者的记录数量\n",
    "record_counts = df['admission_id'].value_counts()\n",
    "\n",
    "# 筛选出记录数大于等于4的患者的admission_id\n",
    "admission_ids_with_enough_records = record_counts[record_counts >= 4].index\n",
    "\n",
    "# 根据筛选结果过滤原始DataFrame\n",
    "filtered_df = df[df['admission_id'].isin(admission_ids_with_enough_records)]\n",
    "\n",
    "filtered_df.to_csv('/home/hwxu/Projects/Dataset/PKU/AMIA/Input/processed/dataset_filtered.csv', index=False)\n"
   ]
  },
  {
   "cell_type": "code",
   "execution_count": null,
   "metadata": {},
   "outputs": [],
   "source": [
    "from Libs.Utils.preprocessor import fill_missing_values\n",
    "\n",
    "input_path = '/home/hwxu/Projects/Dataset/PKU/AMIA/Input/processed/dataset_filtered.csv'\n",
    "output_path = '/home/hwxu/Projects/Dataset/PKU/AMIA/Input/processed/dataset_filled.csv'\n",
    "fill_missing_values(input_path, output_path)"
   ]
  },
  {
   "cell_type": "code",
   "execution_count": null,
   "metadata": {},
   "outputs": [],
   "source": [
    "from Libs.Utils.preprocessor import reduce_mem_usage\n",
    "\n",
    "input_path = '/home/hwxu/Projects/Dataset/PKU/AMIA/Input/processed/dataset_filled.csv'\n",
    "output_path = '/home/hwxu/Projects/Dataset/PKU/AMIA/Input/processed/dataset_reduced.csv'\n",
    "reduce_mem_usage(input_path, output_path)"
   ]
  },
  {
   "cell_type": "code",
   "execution_count": null,
   "metadata": {},
   "outputs": [],
   "source": [
    "import matplotlib.pyplot as plt\n",
    "import pandas as pd\n",
    "\n",
    "ts = pd.read_csv('/home/hwxu/Projects/Dataset/PKU/AMIA/Input/processed/dataset_reduced.csv')\n",
    "ts"
   ]
  }
 ],
 "metadata": {
  "kernelspec": {
   "display_name": "hw",
   "language": "python",
   "name": "python3"
  },
  "language_info": {
   "codemirror_mode": {
    "name": "ipython",
    "version": 3
   },
   "file_extension": ".py",
   "mimetype": "text/x-python",
   "name": "python",
   "nbconvert_exporter": "python",
   "pygments_lexer": "ipython3",
   "version": "3.9.18"
  }
 },
 "nbformat": 4,
 "nbformat_minor": 2
}
