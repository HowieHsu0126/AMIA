{
 "cells": [
  {
   "cell_type": "code",
   "execution_count": 1,
   "metadata": {},
   "outputs": [
    {
     "name": "stderr",
     "output_type": "stream",
     "text": [
      "/tmp/ipykernel_2106382/3821041296.py:3: FutureWarning: You are using `torch.load` with `weights_only=False` (the current default value), which uses the default pickle module implicitly. It is possible to construct malicious pickle data which will execute arbitrary code during unpickling (See https://github.com/pytorch/pytorch/blob/main/SECURITY.md#untrusted-models for more details). In a future release, the default value for `weights_only` will be flipped to `True`. This limits the functions that could be executed during unpickling. Arbitrary objects will no longer be allowed to be loaded via this mode unless they are explicitly allowlisted by the user via `torch.serialization.add_safe_globals`. We recommend you start setting `weights_only=True` for any use case where you don't have full control of the loaded file. Please open an issue on GitHub for any issues related to this experimental feature.\n",
      "  data = torch.load(\"Output/GC_matrix.pt\")\n"
     ]
    },
    {
     "data": {
      "text/plain": [
       "tensor([[0.0000, 0.9864, 0.9748, 1.0000, 0.9839, 0.9711, 0.9803, 0.9864, 0.9848,\n",
       "         0.9881, 0.9926, 0.9877],\n",
       "        [0.9928, 0.0000, 0.9905, 0.9910, 0.9774, 0.9910, 0.9871, 0.9749, 0.9875,\n",
       "         0.9820, 0.9921, 0.9866],\n",
       "        [0.9770, 0.9851, 0.0000, 0.9779, 0.9921, 0.9999, 0.9890, 0.9730, 0.9876,\n",
       "         0.9929, 0.9799, 1.0000],\n",
       "        [0.9729, 0.9990, 0.9915, 0.0000, 0.9913, 0.9881, 0.9975, 0.9931, 1.0000,\n",
       "         0.9872, 0.9866, 0.9885],\n",
       "        [0.9899, 0.9840, 0.9878, 0.9724, 0.0000, 0.9786, 0.9722, 0.9812, 0.9919,\n",
       "         0.9794, 1.0000, 0.9779],\n",
       "        [0.9988, 0.9893, 1.0000, 0.9681, 0.9898, 0.0000, 0.9924, 0.9979, 0.9635,\n",
       "         0.9801, 0.9904, 0.9758],\n",
       "        [0.9705, 0.9931, 0.9813, 0.9754, 0.9972, 0.9812, 0.0000, 0.9713, 0.9797,\n",
       "         0.9875, 1.0000, 0.9867],\n",
       "        [0.9726, 0.9858, 0.9763, 0.9849, 0.9913, 0.9789, 0.9895, 0.0000, 0.9893,\n",
       "         0.9864, 0.9708, 0.9760],\n",
       "        [0.9746, 0.9785, 1.0000, 0.9940, 0.9695, 0.9563, 0.9957, 0.9839, 0.0000,\n",
       "         0.9921, 0.9800, 0.9937],\n",
       "        [0.9487, 0.9668, 0.9646, 0.9843, 1.0000, 0.9869, 0.9747, 0.9768, 0.9727,\n",
       "         0.0000, 0.9730, 0.9738],\n",
       "        [0.9906, 0.9781, 0.9893, 0.9747, 0.9920, 0.9857, 1.0000, 0.9866, 0.9928,\n",
       "         0.9933, 0.0000, 0.9827],\n",
       "        [0.9842, 0.9869, 0.9920, 0.9968, 1.0000, 0.9869, 0.9883, 0.9895, 0.9931,\n",
       "         0.9851, 0.9964, 0.0000]], requires_grad=True)"
      ]
     },
     "execution_count": 1,
     "metadata": {},
     "output_type": "execute_result"
    }
   ],
   "source": [
    "import torch\n",
    "\n",
    "data = torch.load(\"Output/GC_matrix.pt\")\n",
    "data"
   ]
  }
 ],
 "metadata": {
  "kernelspec": {
   "display_name": "hw",
   "language": "python",
   "name": "python3"
  },
  "language_info": {
   "codemirror_mode": {
    "name": "ipython",
    "version": 3
   },
   "file_extension": ".py",
   "mimetype": "text/x-python",
   "name": "python",
   "nbconvert_exporter": "python",
   "pygments_lexer": "ipython3",
   "version": "3.9.18"
  }
 },
 "nbformat": 4,
 "nbformat_minor": 2
}
